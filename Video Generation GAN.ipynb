{
 "cells": [
  {
   "cell_type": "code",
   "execution_count": 1,
   "metadata": {},
   "outputs": [
    {
     "name": "stderr",
     "output_type": "stream",
     "text": [
      "Using TensorFlow backend.\n"
     ]
    }
   ],
   "source": [
    "import numpy as np\n",
    "\n",
    "from keras import backend as K\n",
    "K.set_image_dim_ordering('th') # ensure our dimension notation matches\n",
    "\n",
    "from keras.models import Sequential\n",
    "from keras.layers import Dense, Dropout, Reshape\n",
    "from keras.layers.core import Activation\n",
    "from keras.layers.normalization import BatchNormalization\n",
    "from keras.layers.convolutional import UpSampling2D , Convolution2D, AveragePooling2D\n",
    "from keras.layers.core import Flatten\n",
    "from keras.optimizers import SGD,Adam\n",
    "from keras.datasets import mnist\n",
    "from PIL import Image,ImageOps\n",
    "import argparse\n",
    "import math\n",
    "import os\n",
    "import os.path\n",
    "import glob"
   ]
  },
  {
   "cell_type": "code",
   "execution_count": 2,
   "metadata": {},
   "outputs": [
    {
     "name": "stdout",
     "output_type": "stream",
     "text": [
      "<bound method Container.summary of <keras.models.Sequential object at 0x10e01b978>>\n"
     ]
    },
    {
     "name": "stderr",
     "output_type": "stream",
     "text": [
      "/Users/llealhernandez/anaconda/envs/dlnd/lib/python3.6/site-packages/ipykernel_launcher.py:3: UserWarning: Update your `Conv2D` call to the Keras 2 API: `Conv2D(64, (5, 5), input_shape=(1, 128, 1..., padding=\"same\")`\n",
      "  This is separate from the ipykernel package so we can avoid doing imports until\n",
      "/Users/llealhernandez/anaconda/envs/dlnd/lib/python3.6/site-packages/ipykernel_launcher.py:6: UserWarning: Update your `Conv2D` call to the Keras 2 API: `Conv2D(128, (5, 5))`\n",
      "  \n"
     ]
    }
   ],
   "source": [
    "def get_discriminator():\n",
    "    model = Sequential()\n",
    "    model.add(Convolution2D(64,5,5,border_mode = \"same\",input_shape =(1,128,128)))\n",
    "    model.add(Activation('tanh'))\n",
    "    model.add(AveragePooling2D(pool_size=(4,4)))\n",
    "    model.add(Convolution2D(128,5,5))\n",
    "    model.add(Activation('tanh'))\n",
    "    model.add(AveragePooling2D(pool_size=(2,2)))\n",
    "    model.add(Flatten())\n",
    "    model.add(Dense(256))\n",
    "    model.add(Activation('tanh'))\n",
    "    model.add(Dense(1))\n",
    "    model.add(Activation('sigmoid'))\n",
    "    \n",
    "    return model\n",
    "print(get_discriminator().summary)"
   ]
  },
  {
   "cell_type": "code",
   "execution_count": 3,
   "metadata": {},
   "outputs": [
    {
     "name": "stdout",
     "output_type": "stream",
     "text": [
      "<bound method Container.summary of <keras.models.Sequential object at 0x11fb21160>>\n"
     ]
    },
    {
     "name": "stderr",
     "output_type": "stream",
     "text": [
      "/Users/llealhernandez/anaconda/envs/dlnd/lib/python3.6/site-packages/ipykernel_launcher.py:3: UserWarning: Update your `Conv2D` call to the Keras 2 API: `Conv2D(64, (5, 5), input_shape=(1, 128, 1..., padding=\"same\")`\n",
      "  This is separate from the ipykernel package so we can avoid doing imports until\n",
      "/Users/llealhernandez/anaconda/envs/dlnd/lib/python3.6/site-packages/ipykernel_launcher.py:6: UserWarning: Update your `Conv2D` call to the Keras 2 API: `Conv2D(128, (5, 5))`\n",
      "  \n"
     ]
    }
   ],
   "source": [
    "print(get_discriminator().summary)"
   ]
  },
  {
   "cell_type": "code",
   "execution_count": 4,
   "metadata": {
    "collapsed": true
   },
   "outputs": [],
   "source": [
    "def get_generator():\n",
    "    model = Sequential()\n",
    "    model.add(Dense(input_dim=100,output_dim = 1024))\n",
    "    model.add(Activation('tanh'))\n",
    "    model.add(Dense(128*8*8))\n",
    "    model.add(BatchNormalization())\n",
    "    model.add(Activation('tanh'))\n",
    "    model.add(Reshape((128,8,8),input_shape = (128*8*8,)))\n",
    "    model.add(UpSampling2D(size=(4,4)))\n",
    "    model.add(Convolution2D(64,5,5,border_mode=\"same\"))\n",
    "    model.add(Activation('tanh'))\n",
    "    model.add(UpSampling2D(size=(4,4)))\n",
    "    model.add(Convolution2D(1,5,5,border_mode=\"same\"))\n",
    "    model.add(Activation('tanh'))\n",
    "    \n",
    "    \n",
    "    return model"
   ]
  },
  {
   "cell_type": "code",
   "execution_count": 5,
   "metadata": {
    "collapsed": true
   },
   "outputs": [],
   "source": [
    "def GAN(generator,discriminator):\n",
    "    model = Sequential()\n",
    "    model.add(generator)\n",
    "    discriminator.trainable = False\n",
    "    model.add(discriminator)\n",
    "    \n",
    "    return model"
   ]
  },
  {
   "cell_type": "code",
   "execution_count": 6,
   "metadata": {
    "collapsed": true
   },
   "outputs": [],
   "source": [
    "def format_data(generated_images):\n",
    "    num = generated_images.shape[0]\n",
    "    width = int(math.sqrt(num))\n",
    "    height = int(math.ceil(float(num)/width))\n",
    "    shape = generated_images.shape[2:]\n",
    "    image = np.zeros((height*shape[0],width*shape[1]),dtype=generated_images.dtype)\n",
    "    \n",
    "    for index,img in enumerate(generated_images):\n",
    "        i = int(index/width)\n",
    "        j = index %width\n",
    "        image[i*shape[0]:(i+1)*shape[0],j*shape[1]:(j+1)*shape[1]] = img[0,:,:]\n",
    "    \n",
    "    return image"
   ]
  },
  {
   "cell_type": "code",
   "execution_count": 7,
   "metadata": {
    "collapsed": true
   },
   "outputs": [],
   "source": [
    "def load_data(pixels = 128):\n",
    "    print('Loading data')\n",
    "    X_train = []\n",
    "    paths = glob.glob(os.path.normpath(os.getcwd()+\"/logos/*.jpg\"))\n",
    "    loaded_count = 0\n",
    "    \n",
    "    for path in paths:\n",
    "        image = Image.open(path)\n",
    "        image = ImageOps.fit(image,(pixels,pixels),Image.ANTIALIAS)\n",
    "        image = ImageOps.grayscale(image)\n",
    "        image = np.asarray(image)\n",
    "        X_train.append(image)\n",
    "        \n",
    "        loaded_count += 1\n",
    "        \n",
    "        if loaded_count%10 ==0:\n",
    "            print('Loaded '+str(loaded_count)+ \" images \")\n",
    "        \n",
    "    print(\"Finished loading data\")\n",
    "        \n",
    "    return np.array(X_train)\n"
   ]
  },
  {
   "cell_type": "code",
   "execution_count": 8,
   "metadata": {},
   "outputs": [
    {
     "name": "stdout",
     "output_type": "stream",
     "text": [
      "Loading data\n",
      "Loaded 10 images \n",
      "Loaded 20 images \n",
      "Loaded 30 images \n",
      "Finished loading data\n"
     ]
    },
    {
     "data": {
      "text/plain": [
       "(38, 128, 128)"
      ]
     },
     "execution_count": 8,
     "metadata": {},
     "output_type": "execute_result"
    }
   ],
   "source": [
    "np.shape(load_data())"
   ]
  },
  {
   "cell_type": "code",
   "execution_count": 9,
   "metadata": {
    "collapsed": true
   },
   "outputs": [],
   "source": [
    "def train_GAN(epochs,batch_size,load_weights= False,learning_rate = .0005):\n",
    "    \"\"\"\n",
    "    :param epochs: Number of training epochs\n",
    "    :param batch_size: size of minibatch\n",
    "    :param load_weights: If true, load trained weights from file, else train from scratch\n",
    "    \"\"\"\n",
    "    X_train = load_data()\n",
    "    X_train = (X_train.astype(np.float32) - 127.5)/127.5\n",
    "    X_train = X_train.reshape((X_train.shape[0], 1) + X_train.shape[1:])\n",
    "    \n",
    "    discriminator = get_discriminator()\n",
    "    generator = get_generator()\n",
    "    \n",
    "    if load_weights:\n",
    "        generator.load_weights('goodgenerator.h5')\n",
    "        discriminator.load_weights('gooddiscriminator.h5')\n",
    "        \n",
    "    GAN_model = GAN(generator,discriminator)\n",
    "    \n",
    "    d_optimizer = SGD(lr=learning_rate,momentum=0.9,nesterov=True)\n",
    "    g_optimizer = SGD(lr=learning_rate,momentum=0.9,nesterov=True)\n",
    "    \n",
    "    generator.compile(loss =\"binary_crossentropy\",optimizer=\"SGD\")\n",
    "    GAN_model.compile(loss=\"binary_crossentropy\",optimizer=g_optimizer)\n",
    "    discriminator.trainable = True\n",
    "    discriminator.compile(loss=\"binary_crossentropy\",optimizer=d_optimizer)\n",
    "    \n",
    "    noise = np.zeros((batch_size,100))\n",
    "    \n",
    "    for epoch in range(epochs):\n",
    "        for index in range(int(X_train.shape[0]/batch_size)):\n",
    "            \n",
    "            #generate a batch of random noise to generator input\n",
    "            for i in range(batch_size):\n",
    "                noise[i,:] = np.random.uniform(-1,1,100)\n",
    "                \n",
    "            image_batch = X_train[index*batch_size:(index+1)*batch_size]\n",
    "            generated_images = generator.predict(noise,verbose = 0)\n",
    "            \n",
    "            # once in a while write generated images\n",
    "            if index % 20 == 0 and epoch % 10 == 0:\n",
    "                image = format_data(generated_images)\n",
    "                image = image*127.5+127.5\n",
    "                destpath = os.path.normpath(os.getcwd()+ \"/logo-generated-images/\"+str(epoch)+\"_\"+str(index)+\".png\")\n",
    "                Image.fromarray(image.astype(np.uint8)).save(destpath)\n",
    "            \n",
    "            # create a train batch containing generated and real images together\n",
    "            X = np.concatenate((image_batch,generated_images))\n",
    "            y = [0.9] * batch_size + [0] * batch_size #use 0.9 instead of 1 for label smoothing\n",
    "            \n",
    "            #train discriminator\n",
    "            d_loss = discriminator.train_on_batch(X,y)\n",
    "            \n",
    "            # Generate generator training set\n",
    "            ### generate images from random noise\n",
    "            for i in range(batch_size):\n",
    "                noise[i,:] = np.random.uniform(-1,1,100)\n",
    "                \n",
    "           ### generate labels\n",
    "            g_y = [1] * batch_size\n",
    "            \n",
    "            discriminator.trainable = False\n",
    "            g_loss = GAN_model.train_on_batch(noise,g_y)\n",
    "            discriminator.trainable = True\n",
    "            \n",
    "            if epoch % 10 == 0:\n",
    "                generator.save_weights('goodgenerator.h5', True)\n",
    "                discriminator.save_weights('gooddiscriminator.h5', True)"
   ]
  },
  {
   "cell_type": "code",
   "execution_count": 10,
   "metadata": {
    "collapsed": true
   },
   "outputs": [],
   "source": [
    "def clean_image(image):\n",
    "    for i in range(1,image.shape[0] - 1):\n",
    "        for j in range(1, image.shape[1] - 1):\n",
    "            if image[i][j] + image[i+1][j] + image[i][j+1] + image[i-1][j] + image[i][j-1] > 127 * 5:\n",
    "                image[i][j] = 255\n",
    "    \n",
    "    return image"
   ]
  },
  {
   "cell_type": "code",
   "execution_count": 17,
   "metadata": {
    "collapsed": true
   },
   "outputs": [],
   "source": [
    "def generate_image_batch(batch_size):\n",
    "    generator  = get_generator()\n",
    "    generator.compile(loss=\"binary_crossentropy\",optimizer=\"SGD\")\n",
    "    generator.load_weights('goodgenerator.h5')\n",
    "    \n",
    "    noise = np.zeros((batch_size,100))\n",
    "    a = np.random.uniform(-1, 1, 100)\n",
    "    b = np.random.uniform(-1, 1, 100)\n",
    "    grad = (b - a) / batch_size\n",
    "    \n",
    "    for i in range(batch_size):\n",
    "        noise[i, :] = np.random.uniform(-1, 1, 100)\n",
    "    generated_images = generator.predict(noise, verbose=1)\n",
    "    \n",
    "    print(generated_images.shape)\n",
    "    for image in generated_images:\n",
    "        image = image[0]\n",
    "        image = image*127.5+127.5\n",
    "        Image.fromarray(image.astype(np.uint8)).save(\"dirty.png\")\n",
    "        Image.fromarray(image.astype(np.uint8)).show()\n",
    "        clean_image(image)\n",
    "        image = Image.fromarray(image.astype(np.uint8))\n",
    "        image.show()        \n",
    "        image.save(\"clean.png\")"
   ]
  },
  {
   "cell_type": "code",
   "execution_count": 12,
   "metadata": {},
   "outputs": [
    {
     "name": "stdout",
     "output_type": "stream",
     "text": [
      "Loading data\n",
      "Loaded 10 images \n",
      "Loaded 20 images \n",
      "Loaded 30 images \n",
      "Finished loading data\n"
     ]
    },
    {
     "name": "stderr",
     "output_type": "stream",
     "text": [
      "/Users/llealhernandez/anaconda/envs/dlnd/lib/python3.6/site-packages/ipykernel_launcher.py:3: UserWarning: Update your `Conv2D` call to the Keras 2 API: `Conv2D(64, (5, 5), input_shape=(1, 128, 1..., padding=\"same\")`\n",
      "  This is separate from the ipykernel package so we can avoid doing imports until\n",
      "/Users/llealhernandez/anaconda/envs/dlnd/lib/python3.6/site-packages/ipykernel_launcher.py:6: UserWarning: Update your `Conv2D` call to the Keras 2 API: `Conv2D(128, (5, 5))`\n",
      "  \n",
      "/Users/llealhernandez/anaconda/envs/dlnd/lib/python3.6/site-packages/ipykernel_launcher.py:3: UserWarning: Update your `Dense` call to the Keras 2 API: `Dense(input_dim=100, units=1024)`\n",
      "  This is separate from the ipykernel package so we can avoid doing imports until\n",
      "/Users/llealhernandez/anaconda/envs/dlnd/lib/python3.6/site-packages/ipykernel_launcher.py:10: UserWarning: Update your `Conv2D` call to the Keras 2 API: `Conv2D(64, (5, 5), padding=\"same\")`\n",
      "  # Remove the CWD from sys.path while we load stuff.\n",
      "/Users/llealhernandez/anaconda/envs/dlnd/lib/python3.6/site-packages/ipykernel_launcher.py:13: UserWarning: Update your `Conv2D` call to the Keras 2 API: `Conv2D(1, (5, 5), padding=\"same\")`\n",
      "  del sys.path[0]\n"
     ]
    }
   ],
   "source": [
    "train_GAN(5,10,False)"
   ]
  },
  {
   "cell_type": "code",
   "execution_count": 19,
   "metadata": {},
   "outputs": [
    {
     "name": "stderr",
     "output_type": "stream",
     "text": [
      "/Users/llealhernandez/anaconda/envs/dlnd/lib/python3.6/site-packages/ipykernel_launcher.py:3: UserWarning: Update your `Dense` call to the Keras 2 API: `Dense(input_dim=100, units=1024)`\n",
      "  This is separate from the ipykernel package so we can avoid doing imports until\n",
      "/Users/llealhernandez/anaconda/envs/dlnd/lib/python3.6/site-packages/ipykernel_launcher.py:10: UserWarning: Update your `Conv2D` call to the Keras 2 API: `Conv2D(64, (5, 5), padding=\"same\")`\n",
      "  # Remove the CWD from sys.path while we load stuff.\n",
      "/Users/llealhernandez/anaconda/envs/dlnd/lib/python3.6/site-packages/ipykernel_launcher.py:13: UserWarning: Update your `Conv2D` call to the Keras 2 API: `Conv2D(1, (5, 5), padding=\"same\")`\n",
      "  del sys.path[0]\n"
     ]
    },
    {
     "name": "stdout",
     "output_type": "stream",
     "text": [
      "10/10 [==============================] - 0s\n",
      "(10, 1, 128, 128)\n"
     ]
    }
   ],
   "source": [
    "generate_image_batch(10)"
   ]
  },
  {
   "cell_type": "code",
   "execution_count": null,
   "metadata": {
    "collapsed": true
   },
   "outputs": [],
   "source": []
  }
 ],
 "metadata": {
  "kernelspec": {
   "display_name": "Python 3",
   "language": "python",
   "name": "python3"
  },
  "language_info": {
   "codemirror_mode": {
    "name": "ipython",
    "version": 3
   },
   "file_extension": ".py",
   "mimetype": "text/x-python",
   "name": "python",
   "nbconvert_exporter": "python",
   "pygments_lexer": "ipython3",
   "version": "3.6.1"
  }
 },
 "nbformat": 4,
 "nbformat_minor": 2
}
