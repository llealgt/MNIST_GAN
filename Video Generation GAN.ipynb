{
 "cells": [
  {
   "cell_type": "code",
   "execution_count": 37,
   "metadata": {},
   "outputs": [],
   "source": [
    "import numpy as np\n",
    "\n",
    "from keras import backend as K\n",
    "K.set_image_dim_ordering('th') # ensure our dimension notation matches\n",
    "\n",
    "from keras.models import Sequential\n",
    "from keras.layers import Dense, Dropout, Reshape\n",
    "from keras.layers.core import Activation\n",
    "from keras.layers.normalization import BatchNormalization\n",
    "from keras.layers.convolutional import UpSampling2D , Convolution2D, AveragePooling2D\n",
    "from keras.layers.core import Flatten\n",
    "from keras.optimizers import SGD,Adam\n",
    "from keras.datasets import mnist\n",
    "from PIL import Image,ImageOps\n",
    "import argparse\n",
    "import math\n",
    "import os\n",
    "import os.path\n",
    "import glob\n",
    "import imageio #to generate gif or video\n",
    "import time\n",
    "from IPython import display"
   ]
  },
  {
   "cell_type": "code",
   "execution_count": 15,
   "metadata": {},
   "outputs": [
    {
     "name": "stdout",
     "output_type": "stream",
     "text": [
      "<bound method Container.summary of <keras.models.Sequential object at 0x7f226d6a4780>>\n"
     ]
    },
    {
     "name": "stderr",
     "output_type": "stream",
     "text": [
      "/home/luis/anaconda2/envs/dlnd_gpu/lib/python3.6/site-packages/ipykernel_launcher.py:3: UserWarning: Update your `Conv2D` call to the Keras 2 API: `Conv2D(64, (5, 5), input_shape=(1, 128, 1..., padding=\"same\")`\n",
      "  This is separate from the ipykernel package so we can avoid doing imports until\n",
      "/home/luis/anaconda2/envs/dlnd_gpu/lib/python3.6/site-packages/ipykernel_launcher.py:6: UserWarning: Update your `Conv2D` call to the Keras 2 API: `Conv2D(128, (5, 5))`\n",
      "  \n"
     ]
    }
   ],
   "source": [
    "def get_discriminator():\n",
    "    model = Sequential()\n",
    "    model.add(Convolution2D(64,5,5,border_mode = \"same\",input_shape =(1,128,128)))\n",
    "    model.add(Activation('tanh'))\n",
    "    model.add(AveragePooling2D(pool_size=(4,4)))\n",
    "    model.add(Convolution2D(128,5,5))\n",
    "    model.add(Activation('tanh'))\n",
    "    model.add(AveragePooling2D(pool_size=(2,2)))\n",
    "    model.add(Flatten())\n",
    "    model.add(Dense(256))\n",
    "    model.add(Activation('tanh'))\n",
    "    model.add(Dense(1))\n",
    "    model.add(Activation('sigmoid'))\n",
    "    \n",
    "    return model\n",
    "print(get_discriminator().summary)"
   ]
  },
  {
   "cell_type": "code",
   "execution_count": 16,
   "metadata": {},
   "outputs": [
    {
     "name": "stdout",
     "output_type": "stream",
     "text": [
      "<bound method Container.summary of <keras.models.Sequential object at 0x7f226d6a40f0>>\n"
     ]
    },
    {
     "name": "stderr",
     "output_type": "stream",
     "text": [
      "/home/luis/anaconda2/envs/dlnd_gpu/lib/python3.6/site-packages/ipykernel_launcher.py:3: UserWarning: Update your `Conv2D` call to the Keras 2 API: `Conv2D(64, (5, 5), input_shape=(1, 128, 1..., padding=\"same\")`\n",
      "  This is separate from the ipykernel package so we can avoid doing imports until\n",
      "/home/luis/anaconda2/envs/dlnd_gpu/lib/python3.6/site-packages/ipykernel_launcher.py:6: UserWarning: Update your `Conv2D` call to the Keras 2 API: `Conv2D(128, (5, 5))`\n",
      "  \n"
     ]
    }
   ],
   "source": [
    "print(get_discriminator().summary)"
   ]
  },
  {
   "cell_type": "code",
   "execution_count": 17,
   "metadata": {
    "collapsed": true
   },
   "outputs": [],
   "source": [
    "def get_generator():\n",
    "    model = Sequential()\n",
    "    model.add(Dense(input_dim=100,output_dim = 1024))\n",
    "    model.add(Activation('tanh'))\n",
    "    model.add(Dense(128*8*8))\n",
    "    model.add(BatchNormalization())\n",
    "    model.add(Activation('tanh'))\n",
    "    model.add(Reshape((128,8,8),input_shape = (128*8*8,)))\n",
    "    model.add(UpSampling2D(size=(4,4)))\n",
    "    model.add(Convolution2D(64,5,5,border_mode=\"same\"))\n",
    "    model.add(Activation('tanh'))\n",
    "    model.add(UpSampling2D(size=(4,4)))\n",
    "    model.add(Convolution2D(1,5,5,border_mode=\"same\"))\n",
    "    model.add(Activation('tanh'))\n",
    "    \n",
    "    \n",
    "    return model"
   ]
  },
  {
   "cell_type": "code",
   "execution_count": 18,
   "metadata": {
    "collapsed": true
   },
   "outputs": [],
   "source": [
    "def GAN(generator,discriminator):\n",
    "    model = Sequential()\n",
    "    model.add(generator)\n",
    "    discriminator.trainable = False\n",
    "    model.add(discriminator)\n",
    "    \n",
    "    return model"
   ]
  },
  {
   "cell_type": "code",
   "execution_count": 19,
   "metadata": {
    "collapsed": true
   },
   "outputs": [],
   "source": [
    "def format_data(generated_images):\n",
    "    num = generated_images.shape[0]\n",
    "    width = int(math.sqrt(num))\n",
    "    height = int(math.ceil(float(num)/width))\n",
    "    shape = generated_images.shape[2:]\n",
    "    image = np.zeros((height*shape[0],width*shape[1]),dtype=generated_images.dtype)\n",
    "    \n",
    "    for index,img in enumerate(generated_images):\n",
    "        i = int(index/width)\n",
    "        j = index %width\n",
    "        image[i*shape[0]:(i+1)*shape[0],j*shape[1]:(j+1)*shape[1]] = img[0,:,:]\n",
    "    \n",
    "    return image"
   ]
  },
  {
   "cell_type": "code",
   "execution_count": 20,
   "metadata": {
    "collapsed": true
   },
   "outputs": [],
   "source": [
    "def load_data(pixels = 128):\n",
    "    print('Loading data')\n",
    "    X_train = []\n",
    "    paths = glob.glob(os.path.normpath(os.getcwd()+\"/logos/*.jpg\"))\n",
    "    loaded_count = 0\n",
    "    \n",
    "    for path in paths:\n",
    "        image = Image.open(path)\n",
    "        image = ImageOps.fit(image,(pixels,pixels),Image.ANTIALIAS)\n",
    "        image = ImageOps.grayscale(image)\n",
    "        image = np.asarray(image)\n",
    "        X_train.append(image)\n",
    "        \n",
    "        loaded_count += 1\n",
    "        \n",
    "        if loaded_count%10 ==0:\n",
    "            print('Loaded '+str(loaded_count)+ \" images \")\n",
    "        \n",
    "    print(\"Finished loading data\")\n",
    "        \n",
    "    return np.array(X_train)\n"
   ]
  },
  {
   "cell_type": "code",
   "execution_count": 21,
   "metadata": {},
   "outputs": [
    {
     "name": "stdout",
     "output_type": "stream",
     "text": [
      "Loading data\n",
      "Loaded 10 images \n",
      "Loaded 20 images \n",
      "Loaded 30 images \n",
      "Finished loading data\n"
     ]
    },
    {
     "data": {
      "text/plain": [
       "(38, 128, 128)"
      ]
     },
     "execution_count": 21,
     "metadata": {},
     "output_type": "execute_result"
    }
   ],
   "source": [
    "np.shape(load_data())"
   ]
  },
  {
   "cell_type": "code",
   "execution_count": 22,
   "metadata": {
    "collapsed": true
   },
   "outputs": [],
   "source": [
    "def train_GAN(epochs,batch_size,load_weights= False,learning_rate = .0005):\n",
    "    \"\"\"\n",
    "    :param epochs: Number of training epochs\n",
    "    :param batch_size: size of minibatch\n",
    "    :param load_weights: If true, load trained weights from file, else train from scratch\n",
    "    \"\"\"\n",
    "    X_train = load_data()\n",
    "    X_train = (X_train.astype(np.float32) - 127.5)/127.5\n",
    "    X_train = X_train.reshape((X_train.shape[0], 1) + X_train.shape[1:])\n",
    "    \n",
    "    discriminator = get_discriminator()\n",
    "    generator = get_generator()\n",
    "    \n",
    "    if load_weights:\n",
    "        generator.load_weights('goodgenerator.h5')\n",
    "        discriminator.load_weights('gooddiscriminator.h5')\n",
    "        \n",
    "    GAN_model = GAN(generator,discriminator)\n",
    "    \n",
    "    d_optimizer = SGD(lr=learning_rate,momentum=0.9,nesterov=True)\n",
    "    g_optimizer = SGD(lr=learning_rate,momentum=0.9,nesterov=True)\n",
    "    \n",
    "    generator.compile(loss =\"binary_crossentropy\",optimizer=\"SGD\")\n",
    "    GAN_model.compile(loss=\"binary_crossentropy\",optimizer=g_optimizer)\n",
    "    discriminator.trainable = True\n",
    "    discriminator.compile(loss=\"binary_crossentropy\",optimizer=d_optimizer)\n",
    "    \n",
    "    noise = np.zeros((batch_size,100))\n",
    "    \n",
    "    for epoch in range(epochs):\n",
    "        for index in range(int(X_train.shape[0]/batch_size)):\n",
    "            \n",
    "            #generate a batch of random noise to generator input\n",
    "            for i in range(batch_size):\n",
    "                noise[i,:] = np.random.uniform(-1,1,100)\n",
    "                \n",
    "            image_batch = X_train[index*batch_size:(index+1)*batch_size]\n",
    "            generated_images = generator.predict(noise,verbose = 0)\n",
    "            \n",
    "            \n",
    "            # create a train batch containing generated and real images together\n",
    "            X = np.concatenate((image_batch,generated_images))\n",
    "            y = [0.9] * batch_size + [0] * batch_size #use 0.9 instead of 1 for label smoothing\n",
    "            \n",
    "            #train discriminator\n",
    "            d_loss = discriminator.train_on_batch(X,y)\n",
    "            \n",
    "            # once in a while write generated images and write stats\n",
    "            if index % 20 == 0 and epoch % 10 == 0:\n",
    "                image = format_data(generated_images)\n",
    "                image = image*127.5+127.5\n",
    "                destpath = os.path.normpath(os.getcwd()+ \"/logo-generated-images/\"+str(epoch)+\"_\"+str(index)+\".png\")\n",
    "                Image.fromarray(image.astype(np.uint8)).save(destpath)\n",
    "                print(\"batch %d d_loss : %f\" % (epoch, d_loss))\n",
    "            \n",
    "            # Generate generator training set\n",
    "            ### generate images from random noise\n",
    "            for i in range(batch_size):\n",
    "                noise[i,:] = np.random.uniform(-1,1,100)\n",
    "                \n",
    "           ### generate labels\n",
    "            g_y = [1] * batch_size\n",
    "            \n",
    "            discriminator.trainable = False\n",
    "            g_loss = GAN_model.train_on_batch(noise,g_y)\n",
    "            discriminator.trainable = True\n",
    "            \n",
    "            if epoch % 10 == 0:\n",
    "                generator.save_weights('goodgenerator.h5', True)\n",
    "                discriminator.save_weights('gooddiscriminator.h5', True)"
   ]
  },
  {
   "cell_type": "code",
   "execution_count": 23,
   "metadata": {
    "collapsed": true
   },
   "outputs": [],
   "source": [
    "def clean_image(image):\n",
    "    for i in range(1,image.shape[0] - 1):\n",
    "        for j in range(1, image.shape[1] - 1):\n",
    "            if image[i][j] + image[i+1][j] + image[i][j+1] + image[i-1][j] + image[i][j-1] > 127 * 5:\n",
    "                image[i][j] = 255\n",
    "    \n",
    "    return image"
   ]
  },
  {
   "cell_type": "code",
   "execution_count": 31,
   "metadata": {
    "collapsed": true
   },
   "outputs": [],
   "source": [
    "def generate_image_batch(batch_size):\n",
    "    generator  = get_generator()\n",
    "    generator.compile(loss=\"binary_crossentropy\",optimizer=\"SGD\")\n",
    "    generator.load_weights('goodgenerator.h5')\n",
    "    \n",
    "    noise = np.zeros((batch_size,100))\n",
    "    a = np.random.uniform(-1, 1, 100)\n",
    "    b = np.random.uniform(-1, 1, 100)\n",
    "    grad = (b - a) / batch_size\n",
    "    \n",
    "    for i in range(batch_size):\n",
    "        noise[i, :] = np.random.uniform(-1, 1, 100)\n",
    "    generated_images = generator.predict(noise, verbose=1)\n",
    "    \n",
    "    images  = []\n",
    "    print(generated_images.shape)\n",
    "    for image in generated_images:\n",
    "        image = image[0]\n",
    "        image = image*127.5+127.5\n",
    "        Image.fromarray(image.astype(np.uint8)).save(\"dirty.png\")\n",
    "        #Image.fromarray(image.astype(np.uint8)).show()\n",
    "        clean_image(image)\n",
    "        image = Image.fromarray(image.astype(np.uint8))\n",
    "        #image.show()        \n",
    "        image.save(\"clean.png\")\n",
    "        #np.reshape(list(images[0].getdata()),(128,128))\n",
    "        images.append(np.reshape(list(image.getdata()),(128,128)))\n",
    "        \n",
    "    return images"
   ]
  },
  {
   "cell_type": "code",
   "execution_count": 25,
   "metadata": {},
   "outputs": [
    {
     "name": "stdout",
     "output_type": "stream",
     "text": [
      "Loading data\n",
      "Loaded 10 images \n",
      "Loaded 20 images \n",
      "Loaded 30 images \n",
      "Finished loading data\n"
     ]
    },
    {
     "name": "stderr",
     "output_type": "stream",
     "text": [
      "/home/luis/anaconda2/envs/dlnd_gpu/lib/python3.6/site-packages/ipykernel_launcher.py:3: UserWarning: Update your `Conv2D` call to the Keras 2 API: `Conv2D(64, (5, 5), input_shape=(1, 128, 1..., padding=\"same\")`\n",
      "  This is separate from the ipykernel package so we can avoid doing imports until\n",
      "/home/luis/anaconda2/envs/dlnd_gpu/lib/python3.6/site-packages/ipykernel_launcher.py:6: UserWarning: Update your `Conv2D` call to the Keras 2 API: `Conv2D(128, (5, 5))`\n",
      "  \n",
      "/home/luis/anaconda2/envs/dlnd_gpu/lib/python3.6/site-packages/ipykernel_launcher.py:3: UserWarning: Update your `Dense` call to the Keras 2 API: `Dense(input_dim=100, units=1024)`\n",
      "  This is separate from the ipykernel package so we can avoid doing imports until\n",
      "/home/luis/anaconda2/envs/dlnd_gpu/lib/python3.6/site-packages/ipykernel_launcher.py:10: UserWarning: Update your `Conv2D` call to the Keras 2 API: `Conv2D(64, (5, 5), padding=\"same\")`\n",
      "  # Remove the CWD from sys.path while we load stuff.\n",
      "/home/luis/anaconda2/envs/dlnd_gpu/lib/python3.6/site-packages/ipykernel_launcher.py:13: UserWarning: Update your `Conv2D` call to the Keras 2 API: `Conv2D(1, (5, 5), padding=\"same\")`\n",
      "  del sys.path[0]\n"
     ]
    },
    {
     "name": "stdout",
     "output_type": "stream",
     "text": [
      "batch 0 d_loss : 0.690318\n",
      "batch 10 d_loss : 0.549191\n",
      "batch 20 d_loss : 0.424956\n",
      "batch 30 d_loss : 0.304991\n",
      "batch 40 d_loss : 0.261712\n",
      "batch 50 d_loss : 0.316530\n",
      "batch 60 d_loss : 0.429990\n",
      "batch 70 d_loss : 0.477754\n",
      "batch 80 d_loss : 0.494538\n",
      "batch 90 d_loss : 0.437899\n",
      "batch 100 d_loss : 0.489286\n",
      "batch 110 d_loss : 0.590937\n",
      "batch 120 d_loss : 0.504608\n",
      "batch 130 d_loss : 0.491547\n",
      "batch 140 d_loss : 0.511243\n",
      "batch 150 d_loss : 0.526959\n",
      "batch 160 d_loss : 0.534875\n",
      "batch 170 d_loss : 0.457109\n",
      "batch 180 d_loss : 0.658728\n",
      "batch 190 d_loss : 0.518354\n",
      "batch 200 d_loss : 0.492954\n",
      "batch 210 d_loss : 0.472397\n",
      "batch 220 d_loss : 0.481080\n",
      "batch 230 d_loss : 0.428898\n",
      "batch 240 d_loss : 0.428515\n",
      "batch 250 d_loss : 0.426059\n",
      "batch 260 d_loss : 0.373827\n",
      "batch 270 d_loss : 0.406142\n",
      "batch 280 d_loss : 0.347965\n",
      "batch 290 d_loss : 0.337482\n",
      "batch 300 d_loss : 0.327736\n",
      "batch 310 d_loss : 0.317189\n",
      "batch 320 d_loss : 0.308576\n",
      "batch 330 d_loss : 0.301484\n",
      "batch 340 d_loss : 0.278807\n",
      "batch 350 d_loss : 0.353686\n",
      "batch 360 d_loss : 0.303817\n",
      "batch 370 d_loss : 0.315548\n",
      "batch 380 d_loss : 0.302546\n",
      "batch 390 d_loss : 0.384720\n"
     ]
    }
   ],
   "source": [
    "train_GAN(400,10,False)"
   ]
  },
  {
   "cell_type": "code",
   "execution_count": 44,
   "metadata": {},
   "outputs": [
    {
     "name": "stderr",
     "output_type": "stream",
     "text": [
      "/home/luis/anaconda2/envs/dlnd_gpu/lib/python3.6/site-packages/ipykernel_launcher.py:3: UserWarning: Update your `Dense` call to the Keras 2 API: `Dense(input_dim=100, units=1024)`\n",
      "  This is separate from the ipykernel package so we can avoid doing imports until\n",
      "/home/luis/anaconda2/envs/dlnd_gpu/lib/python3.6/site-packages/ipykernel_launcher.py:10: UserWarning: Update your `Conv2D` call to the Keras 2 API: `Conv2D(64, (5, 5), padding=\"same\")`\n",
      "  # Remove the CWD from sys.path while we load stuff.\n",
      "/home/luis/anaconda2/envs/dlnd_gpu/lib/python3.6/site-packages/ipykernel_launcher.py:13: UserWarning: Update your `Conv2D` call to the Keras 2 API: `Conv2D(1, (5, 5), padding=\"same\")`\n",
      "  del sys.path[0]\n"
     ]
    },
    {
     "name": "stdout",
     "output_type": "stream",
     "text": [
      "1050/1050 [==============================] - 1s     \n",
      "(1050, 1, 128, 128)\n"
     ]
    },
    {
     "name": "stderr",
     "output_type": "stream",
     "text": [
      "/home/luis/anaconda2/envs/dlnd_gpu/lib/python3.6/site-packages/imageio/core/util.py:104: UserWarning: Conversion from int64 to uint8, range [0, 255]\n",
      "  'range [{2}, {3}]'.format(dtype_str, out_type.__name__, mi, ma))\n"
     ]
    }
   ],
   "source": [
    "\n",
    "images = generate_image_batch(1050)\n",
    "\n",
    "timestamp = str(int(time.time())) #for the image name so  the browser does not cache\n",
    "animation_file_name = \"./animation\"+timestamp+\".gif\"\n",
    "\n",
    "imageio.mimsave(animation_file_name,images)"
   ]
  },
  {
   "cell_type": "code",
   "execution_count": 45,
   "metadata": {},
   "outputs": [
    {
     "data": {
      "text/html": [
       "<img src=\"./animation1503556499.gif\">"
      ],
      "text/plain": [
       "<IPython.core.display.HTML object>"
      ]
     },
     "execution_count": 45,
     "metadata": {},
     "output_type": "execute_result"
    }
   ],
   "source": [
    "display.HTML('<img src=\"{}\">'.format(animation_file_name))"
   ]
  }
 ],
 "metadata": {
  "kernelspec": {
   "display_name": "Python 3",
   "language": "python",
   "name": "python3"
  },
  "language_info": {
   "codemirror_mode": {
    "name": "ipython",
    "version": 3
   },
   "file_extension": ".py",
   "mimetype": "text/x-python",
   "name": "python",
   "nbconvert_exporter": "python",
   "pygments_lexer": "ipython3",
   "version": "3.6.1"
  }
 },
 "nbformat": 4,
 "nbformat_minor": 2
}
